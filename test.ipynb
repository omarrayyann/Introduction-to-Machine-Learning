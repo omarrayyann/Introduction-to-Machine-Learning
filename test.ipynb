import numpy as np
import matplotlib
import matplotlib.pyplot as plt
from sklearn import datasets, linear_model, preprocessing
%matplotlib inline