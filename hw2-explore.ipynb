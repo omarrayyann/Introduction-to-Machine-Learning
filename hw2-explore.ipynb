{
  "cells": [
    {
      "cell_type": "code",
      "execution_count": 1,
      "metadata": {},
      "outputs": [],
      "source": [
        "import pandas as pd\n",
        "import numpy as np\n",
        "import matplotlib.pyplot as plt\n",
        "%matplotlib inline"
      ]
    },
    {
      "cell_type": "code",
      "execution_count": 13,
      "metadata": {},
      "outputs": [
        {
          "ename": "TypeError",
          "evalue": "scatter() missing 1 required positional argument: 'y'",
          "output_type": "error",
          "traceback": [
            "\u001b[0;31m---------------------------------------------------------------------------\u001b[0m",
            "\u001b[0;31mTypeError\u001b[0m                                 Traceback (most recent call last)",
            "\u001b[1;32m/Users/omarrayyann/Documents/Introduction-to-Machine-Learning/hw2-explore.ipynb Cell 2\u001b[0m line \u001b[0;36m<cell line: 4>\u001b[0;34m()\u001b[0m\n\u001b[1;32m      <a href='vscode-notebook-cell:/Users/omarrayyann/Documents/Introduction-to-Machine-Learning/hw2-explore.ipynb#X22sZmlsZQ%3D%3D?line=0'>1</a>\u001b[0m blue \u001b[39m=\u001b[39m [[\u001b[39m0\u001b[39m,\u001b[39m1\u001b[39m],[\u001b[39m2\u001b[39m,\u001b[39m3\u001b[39m],[\u001b[39m4\u001b[39m,\u001b[39m4\u001b[39m]]\n\u001b[1;32m      <a href='vscode-notebook-cell:/Users/omarrayyann/Documents/Introduction-to-Machine-Learning/hw2-explore.ipynb#X22sZmlsZQ%3D%3D?line=1'>2</a>\u001b[0m red \u001b[39m=\u001b[39m [[\u001b[39m2\u001b[39m,\u001b[39m0\u001b[39m],[\u001b[39m5\u001b[39m,\u001b[39m2\u001b[39m],[\u001b[39m6\u001b[39m,\u001b[39m3\u001b[39m]]\n\u001b[0;32m----> <a href='vscode-notebook-cell:/Users/omarrayyann/Documents/Introduction-to-Machine-Learning/hw2-explore.ipynb#X22sZmlsZQ%3D%3D?line=3'>4</a>\u001b[0m plt\u001b[39m.\u001b[39;49mscatter(blue,color\u001b[39m=\u001b[39;49m\u001b[39m\"\u001b[39;49m\u001b[39mblue\u001b[39;49m\u001b[39m\"\u001b[39;49m)\n\u001b[1;32m      <a href='vscode-notebook-cell:/Users/omarrayyann/Documents/Introduction-to-Machine-Learning/hw2-explore.ipynb#X22sZmlsZQ%3D%3D?line=4'>5</a>\u001b[0m plt\u001b[39m.\u001b[39mscatter(red,color\u001b[39m=\u001b[39m\u001b[39m\"\u001b[39m\u001b[39mred\u001b[39m\u001b[39m\"\u001b[39m)\n",
            "\u001b[0;31mTypeError\u001b[0m: scatter() missing 1 required positional argument: 'y'"
          ]
        }
      ],
      "source": [
        "blueX = [0,2,4]\n",
        "blueY = [1,3,4]\n",
        "\n",
        "redX = [2,5,6]\n",
        "redY = [0,2,3]\n",
        "\n",
        "plt.scatter(blueX,blueY,color=\"blue\")\n",
        "plt.scatter(redX,redY,color=\"red\")"
      ]
    },
    {
      "cell_type": "code",
      "execution_count": 11,
      "metadata": {},
      "outputs": [
        {
          "data": {
            "text/plain": [
              "<matplotlib.collections.PathCollection at 0x13e377f10>"
            ]
          },
          "execution_count": 11,
          "metadata": {},
          "output_type": "execute_result"
        },
        {
          "data": {
            "image/png": "[encoded data removed]",
            "text/plain": [
              "<Figure size 432x288 with 1 Axes>"
            ]
          },
          "metadata": {
            "needs_background": "light"
          },
          "output_type": "display_data"
        }
      ],
      "source": [
        "xx, yy = np.meshgrid(np.arange(0, 6, 0.001), np.arange(0, 4, 0.001))\n",
        "\n",
        "\n",
        "\n",
        "\n"
      ]
    },
    {
      "cell_type": "code",
      "execution_count": null,
      "metadata": {},
      "outputs": [],
      "source": []
    }
  ],
  "metadata": {
    "colab": {
      "provenance": []
    },
    "kernelspec": {
      "display_name": "Python 3",
      "name": "python3"
    },
    "language_info": {
      "codemirror_mode": {
        "name": "ipython",
        "version": 3
      },
      "file_extension": ".py",
      "mimetype": "text/x-python",
      "name": "python",
      "nbconvert_exporter": "python",
      "pygments_lexer": "ipython3",
      "version": "3.10.1"
    }
  },
  "nbformat": 4,
  "nbformat_minor": 0
}
